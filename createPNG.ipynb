{
 "cells": [
  {
   "cell_type": "markdown",
   "metadata": {},
   "source": [
    "# Import Library"
   ]
  },
  {
   "cell_type": "code",
   "execution_count": 1,
   "metadata": {},
   "outputs": [],
   "source": [
    "import cv2\n",
    "import numpy as np"
   ]
  },
  {
   "cell_type": "markdown",
   "metadata": {},
   "source": [
    "# Make a Board"
   ]
  },
  {
   "cell_type": "code",
   "execution_count": 2,
   "metadata": {},
   "outputs": [],
   "source": [
    "board = np.full((600, 600, 4), (140, 180, 210, 255), dtype = np.uint8)\n",
    "\n",
    "for i in range(20, 600, 40):\n",
    "    if i == 20 or i == 580:\n",
    "        cv2.line(board, (20, i), (580, i), (0, 0, 0, 255), 2)\n",
    "    else:\n",
    "        cv2.line(board, (20, i), (580, i), (0, 0, 0, 255))\n",
    "\n",
    "for i in range(20, 600, 40):\n",
    "    if i == 20 or i == 580:\n",
    "        cv2.line(board, (i, 20), (i, 580), (0, 0, 0, 255), 2)\n",
    "    else:\n",
    "        cv2.line(board, (i, 20), (i, 580), (0, 0, 0, 255))\n",
    "\n",
    "cv2.circle(board, (300, 300), 3, (0, 0, 0, 255), -1, cv2.LINE_AA)\n",
    "\n",
    "for i in (140, 460):\n",
    "    for j in (140, 460):\n",
    "        cv2.circle(board, (i, j), 3, (0, 0, 0, 255), -1, cv2.LINE_AA)\n",
    "\n",
    "cv2.imshow(\"board\", board)\n",
    "\n",
    "cv2.waitKey()\n",
    "cv2.destroyAllWindows()"
   ]
  },
  {
   "cell_type": "markdown",
   "metadata": {},
   "source": [
    "# Make a Black Stone"
   ]
  },
  {
   "cell_type": "code",
   "execution_count": 3,
   "metadata": {},
   "outputs": [],
   "source": [
    "black = np.full((40, 40, 4), 0, dtype = np.uint8)\n",
    "\n",
    "cv2.circle(black, (20, 20), 15, (0, 0, 0, 255), -1, cv2.LINE_AA)\n",
    "\n",
    "cv2.imshow(\"black\", black)\n",
    "\n",
    "cv2.waitKey()\n",
    "cv2.destroyAllWindows()"
   ]
  },
  {
   "cell_type": "markdown",
   "metadata": {},
   "source": [
    "# Make a White Stone"
   ]
  },
  {
   "cell_type": "code",
   "execution_count": 4,
   "metadata": {},
   "outputs": [],
   "source": [
    "white = np.full((40, 40, 4), 0, dtype = np.uint8)\n",
    "\n",
    "cv2.circle(white, (20, 20), 15, (255, 255, 255, 255), -1, cv2.LINE_AA)\n",
    "\n",
    "cv2.imshow(\"white\", white)\n",
    "\n",
    "cv2.waitKey()\n",
    "cv2.destroyAllWindows()"
   ]
  },
  {
   "cell_type": "markdown",
   "metadata": {},
   "source": [
    "# Make a Forbidden Stone"
   ]
  },
  {
   "cell_type": "code",
   "execution_count": 5,
   "metadata": {},
   "outputs": [],
   "source": [
    "forbidden = np.full((40, 40, 4), 0, dtype = np.uint8)\n",
    "\n",
    "cv2.line(forbidden, (10, 10), (30, 30),  (0, 0, 255, 255), 3, cv2.LINE_AA)\n",
    "cv2.line(forbidden, (30, 10), (10, 30),  (0, 0, 255, 255), 3, cv2.LINE_AA)\n",
    "\n",
    "cv2.imshow(\"forbidden\", forbidden)\n",
    "\n",
    "cv2.waitKey()\n",
    "cv2.destroyAllWindows()"
   ]
  },
  {
   "cell_type": "markdown",
   "metadata": {},
   "source": [
    "# Image to PNG"
   ]
  },
  {
   "cell_type": "code",
   "execution_count": 6,
   "metadata": {},
   "outputs": [
    {
     "data": {
      "text/plain": [
       "True"
      ]
     },
     "execution_count": 6,
     "metadata": {},
     "output_type": "execute_result"
    }
   ],
   "source": [
    "cv2.imwrite(\"./board.png\", board)\n",
    "cv2.imwrite(\"./black.png\", black)\n",
    "cv2.imwrite(\"./white.png\", white)\n",
    "cv2.imwrite(\"./forbidden.png\", forbidden)"
   ]
  }
 ],
 "metadata": {
  "kernelspec": {
   "display_name": "Python 3.9.13 64-bit (system)",
   "language": "python",
   "name": "python3"
  },
  "language_info": {
   "codemirror_mode": {
    "name": "ipython",
    "version": 3
   },
   "file_extension": ".py",
   "mimetype": "text/x-python",
   "name": "python",
   "nbconvert_exporter": "python",
   "pygments_lexer": "ipython3",
   "version": "3.9.13"
  },
  "orig_nbformat": 4,
  "vscode": {
   "interpreter": {
    "hash": "3e895b6fb515be976e38ed52fb6cccf106eafc0474e2731bb00b229f0b7de97a"
   }
  }
 },
 "nbformat": 4,
 "nbformat_minor": 2
}
